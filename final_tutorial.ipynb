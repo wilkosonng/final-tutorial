{
 "cells": [
  {
   "cell_type": "code",
   "execution_count": null,
   "metadata": {},
   "outputs": [],
   "source": [
    "import pandas as pd\n",
    "import numpy as np "
   ]
  },
  {
   "cell_type": "code",
   "execution_count": 37,
   "metadata": {},
   "outputs": [
    {
     "name": "stdout",
     "output_type": "stream",
     "text": [
      "[Event \"Rated Blitz tournament https://lichess.org/tournament/vJlKpfnM\"]\n",
      "[Site \"https://lichess.org/dD9QYGmU\"]\n",
      "[Date \"????.??.??\"]\n",
      "[Round \"?\"]\n",
      "[White \"CJR71\"]\n",
      "[Black \"Aliocha_7\"]\n",
      "[Result \"0-1\"]\n",
      "[BlackElo \"1769\"]\n",
      "[BlackRatingDiff \"+8\"]\n",
      "[ECO \"E70\"]\n",
      "[Opening \"King's Indian Defense: Normal Variation\"]\n",
      "[Termination \"Time forfeit\"]\n",
      "[TimeControl \"180+0\"]\n",
      "[UTCDate \"2016.12.31\"]\n",
      "[UTCTime \"23:00:01\"]\n",
      "[WhiteElo \"1680\"]\n",
      "[WhiteRatingDiff \"-8\"]\n",
      "\n",
      "1. d4 Nf6 2. c4 g6 3. Nc3 Bg7 4. e4 O-O 5. e5 Ne8 6. f4 f6 7. Nf3 fxe5 8. dxe5 Nc6 9. a3 d6 10. exd6 exd6 11. Bd3 Bxc3+ 12. bxc3 Bg4 13. O-O Ng7 14. Re1 Ne7 15. h3 Bf5 16. Bxf5 Nexf5 17. Ng5 Qf6 18. Qd5+ Kh8 19. Bb2 h6 20. Ne6 Nxe6 21. Rxe6 Qf7 22. Rae1 Rae8 23. Rxe8 Rxe8 24. Qxf7 Rxe1+ 25. Kf2 Rb1 26. Qxg6 Rxb2+ 27. Kf3 Nh4+ 28. Kg4 Nxg6 29. f5 Nf8 30. g3 Rb3 31. h4 Rxc3 32. Kf4 Rxc4+ 33. Kf3 Rc3+ 34. Kf4 Rxa3 35. g4 Rh3 36. h5 a5 37. Ke4 a4 38. Kd5 a3 0-1\n"
     ]
    }
   ],
   "source": [
    "game = chess.pgn.read_game(pgn)\n",
    "print(game)"
   ]
  }
 ],
 "metadata": {
  "interpreter": {
   "hash": "993bf7b16733a4198a6179e99d538a1e684f35d6c6b3d9c570242731bd05d72c"
  },
  "kernelspec": {
   "display_name": "Python 3.10.4 ('envi')",
   "language": "python",
   "name": "python3"
  },
  "language_info": {
   "codemirror_mode": {
    "name": "ipython",
    "version": 3
   },
   "file_extension": ".py",
   "mimetype": "text/x-python",
   "name": "python",
   "nbconvert_exporter": "python",
   "pygments_lexer": "ipython3",
   "version": "3.9.7"
  },
  "orig_nbformat": 4
 },
 "nbformat": 4,
 "nbformat_minor": 2
}
