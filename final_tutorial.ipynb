{
 "cells": [
  {
   "cell_type": "markdown",
   "metadata": {},
   "source": [
    "##"
   ]
  },
  {
   "cell_type": "markdown",
   "metadata": {},
   "source": [
    "### Analyzing the Popularity and Effectiveness of Chess Openings\n",
    "##### Wilson Kong\n",
    "\n",
    "Chess is a game with near-infinite possibilities built solely upon an 8x8 tiled board and 16 game pieces to a side. "
   ]
  },
  {
   "cell_type": "code",
   "execution_count": 100,
   "metadata": {},
   "outputs": [],
   "source": [
    "## Imports necessary libraries for this project\n",
    "\n",
    "import chess\n",
    "import chess.pgn\n",
    "import pandas as pd\n",
    "import numpy as np\n",
    "import ipywidgets as wgt\n",
    "import matplotlib.pylab as plt\n",
    "import re\n",
    "from time import sleep\n",
    "from sklearn import linear_model"
   ]
  },
  {
   "cell_type": "markdown",
   "metadata": {},
   "source": [
    "We'll be obtaining our data from lichess'"
   ]
  },
  {
   "cell_type": "code",
   "execution_count": null,
   "metadata": {},
   "outputs": [],
   "source": [
    "# Opens the PGN file where our data is stored.\n",
    "\n",
    "pgn = open(\"jan2017.pgn\")"
   ]
  },
  {
   "cell_type": "code",
   "execution_count": 103,
   "metadata": {},
   "outputs": [
    {
     "data": {
      "application/vnd.jupyter.widget-view+json": {
       "model_id": "6a7db0a487ee4a52a7dbf34bf02a8864",
       "version_major": 2,
       "version_minor": 0
      },
      "text/plain": [
       "VBox(children=(Output(), Button(description='Start Game', style=ButtonStyle(), tooltip='Click to Start')))"
      ]
     },
     "metadata": {},
     "output_type": "display_data"
    }
   ],
   "source": [
    "game = chess.pgn.read_game(pgn)\n",
    "\n",
    "board = game.board()\n",
    "\n",
    "out = wgt.Output()\n",
    "\n",
    "with out:\n",
    "    display(board)\n",
    "\n",
    "def update_board(button):\n",
    "    global game\n",
    "\n",
    "    with out:\n",
    "        for move in game.mainline_moves():\n",
    "            sleep(0.5)\n",
    "            out.clear_output()\n",
    "            game = game.next()\n",
    "            display(game.board())\n",
    "\n",
    "play = wgt.Button(\n",
    "    value=0,\n",
    "    min=0,\n",
    "    max=len(list(game.mainline_moves())),\n",
    "    step=1,\n",
    "    interval=200,\n",
    "    description=\"Play Game\",\n",
    "    disabled=False\n",
    ")\n",
    "\n",
    "button.on_click(update_board, remove=True)\n",
    "\n",
    "display(wgt.VBox([out, button]))"
   ]
  }
 ],
 "metadata": {
  "interpreter": {
   "hash": "6bb1458a9339d46e1b0921f290eec508d7419f45141941fcf887dd2737dc33e4"
  },
  "kernelspec": {
   "display_name": "Python 3.9.7 ('base')",
   "language": "python",
   "name": "python3"
  },
  "language_info": {
   "codemirror_mode": {
    "name": "ipython",
    "version": 3
   },
   "file_extension": ".py",
   "mimetype": "text/x-python",
   "name": "python",
   "nbconvert_exporter": "python",
   "pygments_lexer": "ipython3",
   "version": "3.9.7"
  },
  "orig_nbformat": 4
 },
 "nbformat": 4,
 "nbformat_minor": 2
}
